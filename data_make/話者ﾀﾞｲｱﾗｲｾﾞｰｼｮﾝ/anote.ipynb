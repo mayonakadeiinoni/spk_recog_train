{
 "cells": [
  {
   "cell_type": "code",
   "execution_count": null,
   "id": "0a58e544",
   "metadata": {
    "vscode": {
     "languageId": "plaintext"
    }
   },
   "outputs": [],
   "source": [
    "from pyannote.audio import Pipeline\n",
    "\n",
    "pipeline = Pipeline.from_pretrained(\"pyannote/speaker-diarization\",\n",
    "                                     use_auth_token=\"\")\n",
    "\n",
    "import torch\n",
    "\n",
    "print(\"CUDA available:\", torch.cuda.is_available())\n",
    "print(\"Using GPU:\", torch.cuda.current_device())\n",
    "print(\"GPU name:\", torch.cuda.get_device_name(torch.cuda.current_device()))\n",
    "\n",
    "diarization = pipeline(\"/work/asano.yuki/model/demo/話者認識/xvector_voice_statistics/第13回/最新/名工大/飯田/wav/おしゃべり.wav\")\n",
    "for turn, _, speaker in diarization.itertracks(yield_label=True):\n",
    "    print(f\"{turn.start:.1f}s - {turn.end:.1f}s: Speaker {speaker}\")"
   ]
  }
 ],
 "metadata": {
  "language_info": {
   "name": "python"
  }
 },
 "nbformat": 4,
 "nbformat_minor": 5
}
